{
 "cells": [
  {
   "cell_type": "markdown",
   "metadata": {},
   "source": [
    "# First Test With NISM Dataset"
   ]
  },
  {
   "cell_type": "code",
   "execution_count": 8,
   "metadata": {},
   "outputs": [
    {
     "name": "stdout",
     "output_type": "stream",
     "text": [
      "label\n",
      "b'DNS'                  38016\n",
      "b'FTP'                   1728\n",
      "b'HTTP'                 11904\n",
      "b'TELNET'                1251\n",
      "b'lime'                646271\n",
      "b'localForwarding'       2557\n",
      "b'remoteForwarding'      2422\n",
      "b'scp'                   2444\n",
      "b'sftp'                  2412\n",
      "b'shell'                 2491\n",
      "b'x11'                   2355\n",
      "dtype: int64\n",
      "(713851, 22)\n",
      "(713851, 9)\n",
      "Random Forest Classifier:       1.00\n"
     ]
    }
   ],
   "source": [
    "import pandas as pd\n",
    "import csv\n",
    "# read CSV file directly from a URL and save the results\n",
    "# NOT: First extract zip file\n",
    "data = pd.read_csv('NISM.csv',   quoting=csv.QUOTE_NONE, encoding='utf-8')\n",
    "\n",
    "#families whose count is greater than 30 \n",
    "#class_group = df.groupby(\"class\")\n",
    "\n",
    "print(data.groupby('label').size())\n",
    "\n",
    "# extact features and labels\n",
    "# X feature set, y labels\n",
    "X = data.loc[:,data.columns[:-1]] # -1 label kolonunu refer ediyor\n",
    "y = data.label\n",
    "X = X.values\n",
    "\n",
    "print(X.shape)\n",
    "\n",
    "# Generally, this is one of the most commonly used preprocessing step.\n",
    "from sklearn.ensemble import ExtraTreesClassifier\n",
    "from sklearn.feature_selection import SelectFromModel\n",
    "from sklearn import preprocessing\n",
    "\n",
    "clf = ExtraTreesClassifier()\n",
    "clf = clf.fit(X, y)\n",
    "#print(clf.feature_importances_)\n",
    "\n",
    "model = SelectFromModel(clf, prefit=True)\n",
    "X_new = model.transform(X)\n",
    "X=X_new\n",
    "print(X.shape)\n",
    "\n",
    "\n",
    "from sklearn import linear_model, ensemble, svm, ensemble, tree, neural_network, metrics, naive_bayes\n",
    "from sklearn import cross_validation\n",
    "\n",
    "# cross validation of the ML algorithms\n",
    "def stratified_cv(X, y, clf_class, shuffle=True, n_folds=10, **kwargs):\n",
    "    stratified_k_fold = cross_validation.StratifiedKFold(y, n_folds=n_folds, shuffle=shuffle)\n",
    "    y_pred = y.copy()\n",
    "    for ii, jj in stratified_k_fold:\n",
    "        X_train, X_test = X[ii], X[jj]\n",
    "        y_train = y[ii]\n",
    "        clf = clf_class(**kwargs)\n",
    "        clf.fit(X_train,y_train)\n",
    "        y_pred[jj] = clf.predict(X_test)\n",
    "    return y_pred\n",
    "\n",
    "# print accuracies of the ML algo.\n",
    "print('Random Forest Classifier:       {:.2f}'.format(metrics.accuracy_score(y, stratified_cv(X, y, ensemble.RandomForestClassifier))))\n",
    "print('Support vector machine(SVM):   {:.2f}'.format(metrics.accuracy_score(y, stratified_cv(X, y, svm.SVC))))\n",
    "print('Logistic Regression:            {:.2f}'.format(metrics.accuracy_score(y, stratified_cv(X, y, linear_model.LogisticRegression))))"
   ]
  }
 ],
 "metadata": {
  "kernelspec": {
   "display_name": "Python 3",
   "language": "python",
   "name": "python3"
  },
  "language_info": {
   "codemirror_mode": {
    "name": "ipython",
    "version": 3
   },
   "file_extension": ".py",
   "mimetype": "text/x-python",
   "name": "python",
   "nbconvert_exporter": "python",
   "pygments_lexer": "ipython3",
   "version": "3.7.6"
  }
 },
 "nbformat": 4,
 "nbformat_minor": 1
}
